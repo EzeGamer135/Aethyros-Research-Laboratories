{
  "cells": [
    {
      "cell_type": "markdown",
      "metadata": {
        "colab_type": "text",
        "id": "view-in-github"
      },
      "source": [
        "<a href=\"https://colab.research.google.com/github/EzeGamer135/UCC-Research-Laboratories/blob/main/Investigaciones/modelos/Open_Skies_SUNBURST_model.ipynb\" target=\"_parent\"><img src=\"https://colab.research.google.com/assets/colab-badge.svg\" alt=\"Open In Colab\"/></a>"
      ]
    },
    {
      "cell_type": "code",
      "execution_count": null,
      "metadata": {
        "id": "aNS0xvcBklAv"
      },
      "outputs": [],
      "source": [
        "import numpy as np\n",
        "import matplotlib.pyplot as plt\n",
        "from scipy.integrate import solve_ivp\n",
        "import math\n",
        "\n",
        "theta = np.radians(65.3)  # ángulo de lanzamiento en rad\n",
        "m = 500                   # masa del carguero en kg\n",
        "v = 944                   # velocidad de lanzamiento en m/s\n",
        "r = 12                    # radio de la centrifugadora en m\n",
        "g = 9.81                  # gravedad ASL en m/s²\n",
        "R_E = 6378000             # radio de la Tierra en m\n",
        "rho0 = 1.225              # densidad del aire ASL en kg/m³\n",
        "H = 8500                  # escala de altura de la atmósfera en m\n",
        "Cd = 0.47                 # coeficiente de arrastre\n",
        "A = 1.0                   # área frontal del carguero en m²"
      ]
    },
    {
      "cell_type": "code",
      "execution_count": null,
      "metadata": {
        "id": "rFhRsRH8FubS"
      },
      "outputs": [],
      "source": [
        "E_cinetica = 0.5 * m * v**2\n",
        "\n",
        "# Velocidad angular en rad/s\n",
        "omega = math.sqrt((2 * E_cinetica) / (m * r**2))\n",
        "omega_deg_per_s = omega * (180 / math.pi)\n",
        "\n",
        "print(\"J: \" + str(E_cinetica) + \", °/s: \" + str(omega_deg_per_s) + \", RPM: \" + str(omega_deg_per_s/6) + \", RPS: \" + str(omega_deg_per_s/360))\n"
      ]
    },
    {
      "cell_type": "markdown",
      "metadata": {
        "id": "LXi2jMfsjzBj"
      },
      "source": [
        "Ejecutar este código sólo cuando se hayan definido las constantes en el código 1."
      ]
    },
    {
      "cell_type": "code",
      "execution_count": null,
      "metadata": {
        "id": "kuImoAr5jEvI"
      },
      "outputs": [],
      "source": [
        "# Descomponer la velocidad inicial en componentes\n",
        "vx = v * np.cos(theta)\n",
        "vy = v * np.sin(theta)\n",
        "x = 0.0           # Posición horizontal inicial (m)\n",
        "y = 0.0           # Altitud inicial (m)\n",
        "t = 0.0           # Tiempo inicial (s)\n",
        "\n",
        "# Parámetros de integración\n",
        "dt = 0.1          # Paso de tiempo (s)\n",
        "t_max = 300       # Tiempo máximo de simulación (s)\n",
        "\n",
        "# Listas para almacenar los datos simulados\n",
        "t_values = []\n",
        "x_values = []\n",
        "y_values = []\n",
        "v_values = []\n",
        "\n",
        "# Bucle de simulación (método de Euler)\n",
        "while t < t_max and y >= 0:\n",
        "    t_values.append(t)\n",
        "    x_values.append(x)\n",
        "    y_values.append(y)\n",
        "    current_speed = np.sqrt(vx**2 + vy**2)\n",
        "    v_values.append(current_speed)\n",
        "\n",
        "    # Actualizar la densidad del aire en función de la altitud\n",
        "    current_rho = rho0 * np.exp(-y / H)\n",
        "\n",
        "    # Fuerza de arrastre\n",
        "    F_drag = 0.5 * Cd * A * current_rho * current_speed**2\n",
        "    a_drag = F_drag / m  # aceleración debido al drag (módulo)\n",
        "\n",
        "    # Descomponer la aceleración de drag en componentes (dirección opuesta a la velocidad)\n",
        "    ax_drag = - a_drag * (vx / current_speed) if current_speed != 0 else 0\n",
        "    ay_drag = - a_drag * (vy / current_speed) if current_speed != 0 else 0\n",
        "\n",
        "    # Aceleración total: en X, sólo drag; en Y: gravedad (constante) + drag\n",
        "    ax = ax_drag\n",
        "    ay = -g + ay_drag  # gravedad actúa hacia abajo\n",
        "\n",
        "    # Actualización de velocidades (método de Euler)\n",
        "    vx += ax * dt\n",
        "    vy += ay * dt\n",
        "\n",
        "    # Actualización de posiciones\n",
        "    x += vx * dt\n",
        "    y += vy * dt\n",
        "\n",
        "    t += dt\n",
        "\n",
        "# Convertir las listas a arrays\n",
        "t_values = np.array(t_values)\n",
        "x_values = np.array(x_values)\n",
        "y_values = np.array(y_values)\n",
        "v_values = np.array(v_values)\n",
        "\n",
        "# Graficar Altitud y Velocidad vs. Tiempo\n",
        "fig, ax1 = plt.subplots(figsize=(10, 6))\n",
        "ax1.set_xlabel(\"Tiempo (s)\")\n",
        "ax1.set_ylabel(\"Altitud (km)\", color=\"tab:red\")\n",
        "ax1.plot(t_values, y_values/1000, 'r-', label=\"Altitud\")\n",
        "ax1.tick_params(axis=\"y\", labelcolor=\"tab:red\")\n",
        "ax1.set_ylim(0, 150)  # hasta 150 km\n",
        "\n",
        "ax1b = ax1.twinx()\n",
        "ax1b.set_ylabel(\"Velocidad (m/s)\", color=\"tab:blue\")\n",
        "ax1b.plot(t_values, v_values, 'b--', label=\"Velocidad\")\n",
        "ax1b.tick_params(axis=\"y\", labelcolor=\"tab:blue\")\n",
        "if len(v_values) > 0:\n",
        "    ax1b.set_ylim(0, max(v_values)*1.1)\n",
        "\n",
        "plt.title(\"Altitud y Velocidad vs. Tiempo\")\n",
        "plt.tight_layout()\n",
        "plt.show()\n",
        "\n",
        "# Graficar Altitud vs. Longitud (perfil de vuelo)\n",
        "fig, ax2 = plt.subplots(figsize=(10, 6))\n",
        "ax2.set_xlabel(\"Distancia Horizontal (km)\")\n",
        "ax2.set_ylabel(\"Altitud (km)\")\n",
        "ax2.plot(x_values/1000, y_values/1000, 'g-', label=\"Trayectoria\")\n",
        "ax2.set_title(\"Perfil de Vuelo: Altitud vs. Longitud\")\n",
        "ax2.set_xlim(0, max(x_values)/1000*1.1)\n",
        "ax2.set_ylim(0, max(y_values)/1000*1.1)\n",
        "plt.tight_layout()\n",
        "plt.show()\n",
        "\n",
        "# Extraer el índice del apogeo (máxima altitud) y mostrar resultados\n",
        "if len(y_values) > 0:\n",
        "    apogeo_idx = np.argmax(y_values)\n",
        "    print(\"Altitud máxima alcanzada: {:.2f} km\".format(y_values[apogeo_idx] / 1000))\n",
        "    print(\"Tiempo en el apogeo: {:.2f} s\".format(t_values[apogeo_idx]))\n",
        "    print(\"Velocidad en el apogeo: {:.2f} m/s\".format(v_values[apogeo_idx]))\n",
        "else:\n",
        "    print(\"No se generaron datos de la simulación.\")"
      ]
    }
  ],
  "metadata": {
    "colab": {
      "include_colab_link": true,
      "provenance": []
    },
    "kernelspec": {
      "display_name": "Python 3",
      "name": "python3"
    }
  },
  "nbformat": 4,
  "nbformat_minor": 0
}
